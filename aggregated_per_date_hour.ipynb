{
 "cells": [
  {
   "cell_type": "code",
   "execution_count": null,
   "metadata": {},
   "outputs": [],
   "source": [
    "import pandas as pd\n",
    "from matplotlib import pyplot as plt\n",
    "import plotly.express as px\n",
    "import numpy as np\n",
    "import seaborn as sns\n",
    "from scipy.stats import pearsonr, spearmanr"
   ]
  },
  {
   "cell_type": "code",
   "execution_count": null,
   "metadata": {},
   "outputs": [],
   "source": [
    "df = pd.read_parquet(\"..\\escooter_history_2022_new.parquet.gzip\")"
   ]
  },
  {
   "cell_type": "code",
   "execution_count": null,
   "metadata": {},
   "outputs": [],
   "source": [
    "df_agg = df.groupby([\"date\",\"hour\", \"weekday\", \"daytype\"], as_index=False).agg(\n",
    "    total_rental=(\"datetime\",\"count\"),\n",
    "    temp_mode=(\"temp\", pd.Series.mode),\n",
    "    temp_mean=(\"temp\", \"mean\"),\n",
    "    atemp_mode=(\"atemp\", pd.Series.mode),\n",
    "    atemp_mean=(\"atemp\", \"mean\"),\n",
    "    humidity_mode=(\"humidity\", pd.Series.mode),\n",
    "    humidity_mean=(\"humidity\", \"mean\"),\n",
    "    weather_mode=(\"weather\", pd.Series.mode),\n",
    "    windspeed_mode=(\"windspeed\", pd.Series.mode),\n",
    "    windspeed_mean=(\"windspeed\", \"mean\"),\n",
    "    total_registered=(\"registered_customer\", \"sum\")\n",
    "    ).round()\n",
    "df_agg[\"total_unregistered\"] = df_agg[\"total_rental\"] - df_agg[\"total_registered\"] \n",
    "df_agg['day_hour'] = (pd.to_datetime(df_agg['date'], dayfirst=False)\n",
    "               + pd.to_timedelta(df_agg['hour'].astype(int), unit='H')\n",
    "              )"
   ]
  },
  {
   "cell_type": "code",
   "execution_count": null,
   "metadata": {},
   "outputs": [],
   "source": [
    "def normalized_df(param, aggregation, df=df_agg):\n",
    "    \"\"\"\n",
    "    Funktion, um Dataframes zu erstellen, die gruppiert nach \n",
    "    einer Attribut des df_agg bspw. temp_mode (param_aggregation) die durchschnittliche Anzahl\n",
    "    Ausleihen pro Stunde je Attribut-Ausprägung enthält\n",
    "    Beispielsweise:\n",
    "    Bei Temperatur 30 Grad gibt es 200 Ausleihen pro Stunde durchschnittlich \n",
    "    \n",
    "    \"\"\"\n",
    "    df_new = df.groupby(f\"{param}_{aggregation}\", as_index=False).agg(\n",
    "        count = (\"date\", \"count\"),\n",
    "        total_rental = (\"total_rental\", \"sum\"),\n",
    "        total_registered = (\"total_registered\", \"sum\"),\n",
    "        total_unregistered = (\"total_unregistered\", \"sum\")\n",
    "    )\n",
    "    df_new[f\"mean_rental_per_{param}_hour\"] = df_new[\"total_rental\"] / df_new[\"count\"]\n",
    "    df_new[f\"mean_rental_per_{param}_hour_r\"] = df_new[\"total_registered\"] / df_new[\"count\"]\n",
    "    df_new[f\"mean_rental_per_{param}_hour_u\"] = df_new[\"total_unregistered\"] / df_new[\"count\"]       \n",
    "    return df_new\n",
    "\n",
    "\n",
    "def pearson_for_df(df,param, aggregation):\n",
    "    \"\"\"\n",
    "    Errechnet und printed für ein df der Form von normalized_df den\n",
    "    Pearson-Koeffizient für total, registered und unregistered.\n",
    "    Übergeben werden muss param (bpsw. temp) und aggregation (bspw. mode)\n",
    "    des Dataframes    \n",
    "    \"\"\"\n",
    "    total = pearsonr(df[f\"{param}_{aggregation}\"], df[f\"mean_rental_per_{param}_hour\"])\n",
    "    registered = pearsonr(df[f\"{param}_{aggregation}\"], df[f\"mean_rental_per_{param}_hour_r\"])\n",
    "    unregistered = pearsonr(df[f\"{param}_{aggregation}\"], df[f\"mean_rental_per_{param}_hour_u\"])\n",
    "    print(f\"total: {total}\")\n",
    "    print(f\"registered: {registered}\")\n",
    "    print(f\"unregistered: {unregistered}\")"
   ]
  },
  {
   "cell_type": "code",
   "execution_count": null,
   "metadata": {},
   "outputs": [],
   "source": [
    "# Für alle Attribut wird ein DF erstellt\n",
    "df_temp_mean = normalized_df(\"temp\", \"mean\")\n",
    "df_temp_mode = normalized_df(\"temp\", \"mode\")\n",
    "df_atemp_mean = normalized_df(\"atemp\", \"mean\")\n",
    "df_atemp_mode = normalized_df(\"atemp\", \"mode\")\n",
    "df_humidity_mean = normalized_df(\"humidity\", \"mean\")\n",
    "df_humidity_mode = normalized_df(\"humidity\", \"mode\")\n",
    "df_windspeed_mean = normalized_df(\"windspeed\", \"mean\")\n",
    "df_windspeed_mode = normalized_df(\"windspeed\", \"mode\")\n",
    "df_weather_mode = normalized_df(\"weather\", \"mode\")"
   ]
  },
  {
   "cell_type": "code",
   "execution_count": null,
   "metadata": {},
   "outputs": [],
   "source": [
    "px.scatter(df_temp_mode, x= \"temp_mode\", y=\"mean_rental_per_temp_hour\", color=\"count\", trendline=\"ols\", trendline_color_override=\"darkgrey\")"
   ]
  },
  {
   "cell_type": "code",
   "execution_count": null,
   "metadata": {},
   "outputs": [],
   "source": [
    "spearmanr(df_temp_mode[\"temp_mode\"], df_temp_mode[\"mean_rental_per_temp_hour\"])"
   ]
  },
  {
   "cell_type": "code",
   "execution_count": null,
   "metadata": {},
   "outputs": [],
   "source": [
    "px.scatter(df_temp_mean, x= \"temp_mean\", y=\"mean_rental_per_temp_hour\", color=\"count\", trendline=\"ols\", trendline_color_override=\"darkgrey\")"
   ]
  },
  {
   "cell_type": "code",
   "execution_count": null,
   "metadata": {},
   "outputs": [],
   "source": [
    "px.scatter(df_atemp_mode, x= \"atemp_mode\", y=\"mean_rental_per_atemp_hour\", color=\"count\", hover_name=\"count\", trendline=\"ols\", trendline_color_override=\"darkgrey\")"
   ]
  },
  {
   "cell_type": "code",
   "execution_count": null,
   "metadata": {},
   "outputs": [],
   "source": [
    "spearmanr(df_atemp_mode[\"atemp_mode\"], df_atemp_mode[\"mean_rental_per_atemp_hour\"])"
   ]
  },
  {
   "cell_type": "code",
   "execution_count": null,
   "metadata": {},
   "outputs": [],
   "source": [
    "px.scatter(df_atemp_mean, x= \"atemp_mean\", y=\"mean_rental_per_atemp_hour\", color=\"count\", hover_name=\"count\", trendline=\"ols\", trendline_color_override=\"darkgrey\")"
   ]
  },
  {
   "cell_type": "code",
   "execution_count": null,
   "metadata": {},
   "outputs": [],
   "source": [
    "px.scatter(df_windspeed_mode, x= \"windspeed_mode\", y=\"mean_rental_per_windspeed_hour\", color=\"count\", trendline=\"ols\", trendline_color_override=\"darkgrey\")"
   ]
  },
  {
   "cell_type": "code",
   "execution_count": null,
   "metadata": {},
   "outputs": [],
   "source": [
    "spearmanr(df_windspeed_mode[\"windspeed_mode\"], df_windspeed_mode[\"mean_rental_per_windspeed_hour\"])"
   ]
  },
  {
   "cell_type": "code",
   "execution_count": null,
   "metadata": {},
   "outputs": [],
   "source": [
    "px.scatter(df_windspeed_mean, x= \"windspeed_mean\", y=\"mean_rental_per_windspeed_hour\", color=\"count\", trendline=\"ols\", trendline_color_override=\"darkgrey\")"
   ]
  },
  {
   "cell_type": "code",
   "execution_count": null,
   "metadata": {},
   "outputs": [],
   "source": [
    "px.bar(df_weather_mode, x=\"weather_mode\", y=\"mean_rental_per_weather_hour\", color=\"count\")"
   ]
  }
 ],
 "metadata": {
  "kernelspec": {
   "display_name": "Python 3.9.5 64-bit",
   "language": "python",
   "name": "python3"
  },
  "language_info": {
   "name": "python",
   "version": "3.9.5"
  },
  "orig_nbformat": 4,
  "vscode": {
   "interpreter": {
    "hash": "281321f4a926e1649a9de81aaccbbefb0d1aaf98ea04222d2011d0d24568426b"
   }
  }
 },
 "nbformat": 4,
 "nbformat_minor": 2
}
