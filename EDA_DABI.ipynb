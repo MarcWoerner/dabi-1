{
 "cells": [
  {
   "cell_type": "markdown",
   "id": "d5002a35-8d12-44e8-9431-b67f66dd1ce7",
   "metadata": {},
   "source": [
    "# CRISP - DM Method\n",
    "\n",
    "+ Business understanding – What does the business need?\n",
    "+ Data understanding – What data do we have / need? Is it clean?\n",
    "+ Data preparation – How do we organize the data for modeling?\n",
    "+ Modeling – What modeling techniques should we apply?\n",
    "+ Evaluation – Which model best meets the business objectives?\n",
    "+ Deployment – How do stakeholders access the results?"
   ]
  },
  {
   "cell_type": "markdown",
   "id": "341cfc3a-7e01-4ad3-ab29-603d840b65d6",
   "metadata": {},
   "source": [
    "# 1. Business understanding"
   ]
  },
  {
   "cell_type": "markdown",
   "id": "8010d1c3-f26b-4a5f-a809-1286214874eb",
   "metadata": {},
   "source": [
    "#### Geschäftsführung bzw. Disposition des Unternehmens "
   ]
  },
  {
   "cell_type": "markdown",
   "id": "05cc70d5-3c35-4989-98b2-279ed44fc5f8",
   "metadata": {},
   "source": [
    "- Darstellung allgemeiner Erkenntnisse aus den Daten <br>\n",
    "&rarr; Um E-Scooter-Geschäftsfeld besser zu durchdringen und um Rückschlüsse für die eigenen betrieblichen Handlungsbereiche aus den Daten zu ziehen\n",
    "\n"
   ]
  },
  {
   "cell_type": "markdown",
   "id": "c334d865-c96a-490f-897c-eac2c58daea2",
   "metadata": {},
   "source": [
    "#### Abteilungsleiter"
   ]
  },
  {
   "cell_type": "markdown",
   "id": "2aacb020-de20-4d27-988b-d9213ca13b13",
   "metadata": {},
   "source": [
    "- Analysen sollen somit das operative Geschäft des Dispositionsleiters unterstützen <br>\n",
    "&rarr; Wiederkehrende „Muster“ in den Daten sind dabei von besonderem Interesse"
   ]
  },
  {
   "cell_type": "markdown",
   "id": "f5b3be98-e7c0-48af-a482-9dc801587d95",
   "metadata": {},
   "source": [
    "# 2. Data Understanding"
   ]
  },
  {
   "cell_type": "code",
   "execution_count": 42,
   "id": "b7ea3ddc-9c23-40bd-80da-d62b47bd9cde",
   "metadata": {},
   "outputs": [],
   "source": [
    "import pandas as pd\n",
    "import seaborn as sns\n",
    "from matplotlib import pyplot as plt\n",
    "import plotly.express as px"
   ]
  },
  {
   "cell_type": "markdown",
   "id": "d25003f1-c3a2-484d-89fc-0adf0acb05e4",
   "metadata": {},
   "source": [
    "# 3. Data Preperation"
   ]
  },
  {
   "cell_type": "code",
   "execution_count": null,
   "id": "7877ccf3-a925-4f56-b881-c75df8a51f79",
   "metadata": {},
   "outputs": [],
   "source": []
  },
  {
   "cell_type": "markdown",
   "id": "e50f2f42-5a22-47bc-8c44-1df45d3850d4",
   "metadata": {},
   "source": [
    "# 4. Modeling"
   ]
  },
  {
   "cell_type": "code",
   "execution_count": null,
   "id": "2bb4d749-6aba-498d-9d2d-6f753e7fc7bf",
   "metadata": {},
   "outputs": [],
   "source": []
  },
  {
   "cell_type": "markdown",
   "id": "5a5507a1-4db7-4dec-9b19-864626dc3375",
   "metadata": {},
   "source": [
    "# 5. Evaluation"
   ]
  },
  {
   "cell_type": "code",
   "execution_count": null,
   "id": "7ab3a1a9-7b33-46b8-a6db-f747f156d8b0",
   "metadata": {
    "tags": []
   },
   "outputs": [],
   "source": []
  }
 ],
 "metadata": {
  "kernelspec": {
   "display_name": "Python 3",
   "language": "python",
   "name": "python3"
  },
  "language_info": {
   "codemirror_mode": {
    "name": "ipython",
    "version": 3
   },
   "file_extension": ".py",
   "mimetype": "text/x-python",
   "name": "python",
   "nbconvert_exporter": "python",
   "pygments_lexer": "ipython3",
   "version": "3.8.8"
  }
 },
 "nbformat": 4,
 "nbformat_minor": 5
}
