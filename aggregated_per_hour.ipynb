{
 "cells": [
  {
   "cell_type": "code",
   "execution_count": null,
   "metadata": {},
   "outputs": [],
   "source": [
    "import pandas as pd\n",
    "from matplotlib import pyplot as plt\n",
    "import plotly.express as px\n",
    "import numpy as np\n",
    "import seaborn as sns\n",
    "from scipy.stats import pearsonr, spearmanr"
   ]
  },
  {
   "cell_type": "code",
   "execution_count": null,
   "metadata": {},
   "outputs": [],
   "source": [
    "# hier dann preprocessed parquet-Datei einlesen\n",
    "df = pd.read_parquet(\"..\\escooter_history_2022_preprocessed.parquet\")"
   ]
  },
  {
   "cell_type": "code",
   "execution_count": null,
   "metadata": {},
   "outputs": [],
   "source": [
    "df_agg = df.groupby([\"date\",\"hour\", \"weekday\", \"daytype\"], as_index=False).agg(\n",
    "    total_rental=(\"datetime\",\"count\"),\n",
    "    temp_mode=(\"temp\", pd.Series.mode),\n",
    "    atemp_mode=(\"atemp\", pd.Series.mode),\n",
    "    humidity_mode=(\"humidity\", pd.Series.mode),\n",
    "    humidity_mean=(\"humidity\", \"mean\"),\n",
    "    weather_mode=(\"weather\", pd.Series.mode),\n",
    "    windspeed_mode=(\"windspeed\", pd.Series.mode),\n",
    "    total_registered=(\"registered_customer\", \"sum\")\n",
    "    )\n",
    "df_agg[\"total_unregistered\"] = df_agg[\"total_rental\"] - df_agg[\"total_registered\"] \n",
    "df_agg['day_hour'] = (pd.to_datetime(df_agg['date'], dayfirst=False)\n",
    "               + pd.to_timedelta(df_agg['hour'].astype(int), unit='H')\n",
    "              )"
   ]
  }
 ],
 "metadata": {
  "language_info": {
   "name": "python"
  },
  "orig_nbformat": 4
 },
 "nbformat": 4,
 "nbformat_minor": 2
}
