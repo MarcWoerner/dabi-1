{
 "cells": [
  {
   "cell_type": "code",
   "execution_count": null,
   "metadata": {},
   "outputs": [],
   "source": [
    "import pandas as pd\n",
    "from matplotlib import pyplot as plt\n",
    "import plotly.express as px\n",
    "import numpy as np\n",
    "import seaborn as sns\n",
    "from scipy.stats import pearsonr, spearmanr"
   ]
  },
  {
   "cell_type": "code",
   "execution_count": null,
   "metadata": {},
   "outputs": [],
   "source": [
    "# hier dann preprocessed parquet-Datei einlesen\n",
    "df = pd.read_parquet(\"..\\escooter_history_2022_preprocessed.parquet\")"
   ]
  },
  {
   "cell_type": "code",
   "execution_count": null,
   "metadata": {},
   "outputs": [],
   "source": [
    "df_agg = df.groupby([\"date\",\"hour\", \"weekday\", \"daytype\"], as_index=False).agg(\n",
    "    total_rental=(\"datetime\",\"count\"),\n",
    "    temp_mode=(\"temp\", pd.Series.mode),\n",
    "    temp_mean=(\"temp\", \"mean\"),\n",
    "    atemp_mode=(\"atemp\", pd.Series.mode),\n",
    "    atemp_mean=(\"atemp\", \"mean\"),\n",
    "    humidity_mode=(\"humidity\", pd.Series.mode),\n",
    "    humidity_mean=(\"humidity\", \"mean\"),\n",
    "    weather_mode=(\"weather\", pd.Series.mode),\n",
    "    windspeed_mode=(\"windspeed\", pd.Series.mode),\n",
    "    windspeed_mean=(\"windspeed\", \"mean\"),\n",
    "    total_registered=(\"registered_customer\", \"sum\")\n",
    "    )\n",
    "df_agg[\"total_unregistered\"] = df_agg[\"total_rental\"] - df_agg[\"total_registered\"] \n",
    "df_agg['day_hour'] = (pd.to_datetime(df_agg['date'], dayfirst=False)\n",
    "               + pd.to_timedelta(df_agg['hour'].astype(int), unit='H')\n",
    "              )"
   ]
  },
  {
   "cell_type": "code",
   "execution_count": null,
   "metadata": {},
   "outputs": [],
   "source": [
    "def normalized_df(param, aggregation, df=df_agg):\n",
    "    \"\"\"\n",
    "    Funktion, um Dataframes zu erstellen, die gruppiert nach \n",
    "    einer Attribut des df_agg bspw. temp_mode (param_aggregation) die durchschnittliche Anzahl\n",
    "    Ausleihen pro Stunde je Attribut-Ausprägung enthält\n",
    "    Beispielsweise:\n",
    "    Bei Temperatur 30 Grad gibt es 200 Ausleihen pro Stunde durchschnittlich \n",
    "    \n",
    "    \"\"\"\n",
    "    df_new = df.groupby(f\"{param}_{aggregation}\", as_index=False).agg(\n",
    "        count = (\"date\", \"count\"),\n",
    "        total_rental = (\"total_rental\", \"sum\"),\n",
    "    )\n",
    "    df_new[f\"mean_rental_per_{param}_hour\"] = df_new[\"total_rental\"] / df_new[\"count\"]   \n",
    "    return df_new"
   ]
  },
  {
   "cell_type": "code",
   "execution_count": null,
   "metadata": {},
   "outputs": [],
   "source": [
    "# Für alle Attribut wird ein DF erstellt\n",
    "df_temp_mean = normalized_df(\"temp\", \"mean\")\n",
    "df_temp_mode = normalized_df(\"temp\", \"mode\")\n",
    "df_atemp_mean = normalized_df(\"atemp\", \"mean\")\n",
    "df_atemp_mode = normalized_df(\"atemp\", \"mode\")\n",
    "df_humidity_mean = normalized_df(\"humidity\", \"mean\")\n",
    "df_humidity_mode = normalized_df(\"humidity\", \"mode\")\n",
    "df_windspeed_mean = normalized_df(\"windspeed\", \"mean\")\n",
    "df_windspeed_mode = normalized_df(\"windspeed\", \"mode\")"
   ]
  },
  {
   "cell_type": "code",
   "execution_count": null,
   "metadata": {},
   "outputs": [],
   "source": [
    "px.scatter(df_temp, x= \"temp_mode\", y=\"mean_rental_per_temp_hour\", color=\"count\", trendline=\"ols\", trendline_color_override=\"darkgrey\")"
   ]
  },
  {
   "cell_type": "code",
   "execution_count": null,
   "metadata": {},
   "outputs": [],
   "source": [
    "spearmanr(df_temp[\"temp_mode\"], df_temp[\"mean_rental_per_temp_hour\"])"
   ]
  },
  {
   "cell_type": "code",
   "execution_count": null,
   "metadata": {},
   "outputs": [],
   "source": [
    "px.scatter(df_atemp, x= \"atemp_mode\", y=\"mean_rental_per_atemp_hour\", color=\"count\", hover_name=\"count\", trendline=\"ols\", trendline_color_override=\"darkgrey\")"
   ]
  },
  {
   "cell_type": "code",
   "execution_count": null,
   "metadata": {},
   "outputs": [],
   "source": [
    "spearmanr(df_atemp[\"atemp_mode\"], df_atemp[\"mean_rental_per_atemp_hour\"])"
   ]
  },
  {
   "cell_type": "code",
   "execution_count": null,
   "metadata": {},
   "outputs": [],
   "source": [
    "px.scatter(df_windspeed, x= \"windspeed_mode\", y=\"mean_rental_per_windspeed_hour\", color=\"count\", trendline=\"ols\", trendline_color_override=\"darkgrey\")"
   ]
  },
  {
   "cell_type": "code",
   "execution_count": null,
   "metadata": {},
   "outputs": [],
   "source": [
    "spearmanr(df_windspeed[\"windspeed_mode\"], df_windspeed[\"mean_rental_per_windspeed_hour\"])"
   ]
  }
 ],
 "metadata": {
  "language_info": {
   "name": "python"
  },
  "orig_nbformat": 4
 },
 "nbformat": 4,
 "nbformat_minor": 2
}
